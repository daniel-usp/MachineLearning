{
  "nbformat": 4,
  "nbformat_minor": 0,
  "metadata": {
    "colab": {
      "provenance": [],
      "authorship_tag": "ABX9TyO9g2AGj98uS8SWSr5bHUi3",
      "include_colab_link": true
    },
    "kernelspec": {
      "name": "python3",
      "display_name": "Python 3"
    },
    "language_info": {
      "name": "python"
    }
  },
  "cells": [
    {
      "cell_type": "markdown",
      "metadata": {
        "id": "view-in-github",
        "colab_type": "text"
      },
      "source": [
        "<a href=\"https://colab.research.google.com/github/daniel-usp/MachineLearning/blob/main/EXEMPLO_01.ipynb\" target=\"_parent\"><img src=\"https://colab.research.google.com/assets/colab-badge.svg\" alt=\"Open In Colab\"/></a>"
      ]
    },
    {
      "cell_type": "code",
      "execution_count": 10,
      "metadata": {
        "colab": {
          "base_uri": "https://localhost:8080/"
        },
        "id": "Db5foegTnWES",
        "outputId": "94071d02-15e7-4f6c-fa1c-3ccc26da6c86"
      },
      "outputs": [
        {
          "output_type": "stream",
          "name": "stdout",
          "text": [
            "O ativo está caro, situação de venda\n"
          ]
        }
      ],
      "source": [
        "  preço_mercado = 450 #450 é armanezado na variável preço_mercado\n",
        "  preço_esperado = 308.55  #308.55 é armanezado na variável preço_esperado\n",
        "\n",
        "  if preço_mercado > preço_esperado:\n",
        "    print(\"O ativo está caro, situação de venda\")\n",
        "  else:\n",
        "    print(\"O ativo está barato, oportunidade de compra\")\n",
        "\n"
      ]
    }
  ]
}