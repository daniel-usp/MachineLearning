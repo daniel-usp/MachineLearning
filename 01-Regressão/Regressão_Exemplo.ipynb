{
  "nbformat": 4,
  "nbformat_minor": 0,
  "metadata": {
    "colab": {
      "provenance": [],
      "authorship_tag": "ABX9TyMY48XEAL2Yl8V4R2FOFczg",
      "include_colab_link": true
    },
    "kernelspec": {
      "name": "python3",
      "display_name": "Python 3"
    },
    "language_info": {
      "name": "python"
    }
  },
  "cells": [
    {
      "cell_type": "markdown",
      "metadata": {
        "id": "view-in-github",
        "colab_type": "text"
      },
      "source": [
        "<a href=\"https://colab.research.google.com/github/daniel-usp/MachineLearning/blob/main/Regress%C3%A3o_Exemplo.ipynb\" target=\"_parent\"><img src=\"https://colab.research.google.com/assets/colab-badge.svg\" alt=\"Open In Colab\"/></a>"
      ]
    },
    {
      "cell_type": "code",
      "execution_count": 28,
      "metadata": {
        "id": "aLbWVLfeywyM"
      },
      "outputs": [],
      "source": [
        "import pandas as pd\n",
        "\n",
        "#Leitura do Banco de Dados\n",
        "dados = pd.read_excel('custos.xlsx')\n",
        "\n",
        "y = dados['Custo']\n",
        "X = dados[[\"Embalagens\", \"Toneladas\"]]\n",
        "\n"
      ]
    },
    {
      "cell_type": "code",
      "source": [
        "import statsmodels.api as sm\n",
        "\n",
        "# Como os dados já estão definidos na variável 'dados', continuaremos daqui:\n",
        "\n",
        "# Adicionando uma constante ao modelo para o intercepto\n",
        "X = sm.add_constant(X)\n",
        "\n",
        "# Criar e treinar o modelo de regressão linear usando statsmodels\n",
        "modelo_statsmodels = sm.OLS(y, X).fit()\n",
        "\n",
        "# Imprimir o sumário do relatório de análise\n",
        "sumario = modelo_statsmodels.summary()\n",
        "print(sumario)\n",
        "\n"
      ],
      "metadata": {
        "colab": {
          "base_uri": "https://localhost:8080/"
        },
        "id": "8bQxf3X9zbE_",
        "outputId": "1fa588a1-2ac4-417f-d9d1-57c92113c81b"
      },
      "execution_count": 29,
      "outputs": [
        {
          "output_type": "stream",
          "name": "stdout",
          "text": [
            "                            OLS Regression Results                            \n",
            "==============================================================================\n",
            "Dep. Variable:                  Custo   R-squared:                       0.951\n",
            "Model:                            OLS   Adj. R-squared:                  0.947\n",
            "Method:                 Least Squares   F-statistic:                     262.5\n",
            "Date:                Fri, 15 Dec 2023   Prob (F-statistic):           2.03e-18\n",
            "Time:                        00:50:14   Log-Likelihood:                -305.04\n",
            "No. Observations:                  30   AIC:                             616.1\n",
            "Df Residuals:                      27   BIC:                             620.3\n",
            "Df Model:                           2                                         \n",
            "Covariance Type:            nonrobust                                         \n",
            "==============================================================================\n",
            "                 coef    std err          t      P>|t|      [0.025      0.975]\n",
            "------------------------------------------------------------------------------\n",
            "const       3.489e+04   7854.543      4.442      0.000    1.88e+04     5.1e+04\n",
            "Embalagens    57.3402      2.882     19.899      0.000      51.428      63.253\n",
            "Toneladas    986.9519     91.685     10.765      0.000     798.829    1175.075\n",
            "==============================================================================\n",
            "Omnibus:                        0.618   Durbin-Watson:                   1.930\n",
            "Prob(Omnibus):                  0.734   Jarque-Bera (JB):                0.325\n",
            "Skew:                          -0.253   Prob(JB):                        0.850\n",
            "Kurtosis:                       2.940   Cond. No.                     1.44e+04\n",
            "==============================================================================\n",
            "\n",
            "Notes:\n",
            "[1] Standard Errors assume that the covariance matrix of the errors is correctly specified.\n",
            "[2] The condition number is large, 1.44e+04. This might indicate that there are\n",
            "strong multicollinearity or other numerical problems.\n"
          ]
        }
      ]
    },
    {
      "cell_type": "code",
      "source": [
        "# Extrair a tabela de resultados\n",
        "resultados = sumario.tables[1].data\n",
        "\n",
        "# Identificar variáveis com valor-p acima de 0.05\n",
        "variaveis_nao_significativas = []\n",
        "for linha in resultados[1:]:  # Ignorar a primeira linha que é o cabeçalho\n",
        "    nome_variavel = linha[0]\n",
        "    valor_p = float(linha[4])\n",
        "    if valor_p > 0.05:\n",
        "        variaveis_nao_significativas.append(nome_variavel)\n",
        "\n",
        "print(variaveis_nao_significativas)"
      ],
      "metadata": {
        "colab": {
          "base_uri": "https://localhost:8080/"
        },
        "id": "IakE4R-m2blI",
        "outputId": "96b60630-b52b-4f02-8872-3c63e3cd2f3f"
      },
      "execution_count": 30,
      "outputs": [
        {
          "output_type": "stream",
          "name": "stdout",
          "text": [
            "[]\n"
          ]
        }
      ]
    },
    {
      "cell_type": "code",
      "source": [
        "import statsmodels.api as sm\n",
        "\n",
        "# Como os dados já estão definidos na variável 'dados', continuaremos daqui:\n",
        "\n",
        "# Separar os dados em variáveis dependentes e independentes\n",
        "y = dados[\"Vendas\"]\n",
        "X = dados[\"Instagram\"]\n",
        "\n",
        "# Adicionando uma constante ao modelo para o intercepto\n",
        "X = sm.add_constant(X)\n",
        "\n",
        "# Criar e treinar o modelo de regressão linear usando statsmodels\n",
        "modelo_statsmodels = sm.OLS(y, X).fit()\n",
        "\n",
        "# Preparando novos dados para previsão\n",
        "novos_dados = sm.add_constant(pd.DataFrame({'Instagram': [10, 8, 7, 12]}))\n",
        "\n",
        "# Realizar previsões com o modelo treinado\n",
        "previsoes_vendas = modelo_statsmodels.predict(novos_dados)\n",
        "previsoes_vendas\n",
        "\n"
      ],
      "metadata": {
        "colab": {
          "base_uri": "https://localhost:8080/"
        },
        "id": "9tWOvTL93Tmc",
        "outputId": "71d726fe-759d-4e69-bbe9-dc929a25c8eb"
      },
      "execution_count": 13,
      "outputs": [
        {
          "output_type": "execute_result",
          "data": {
            "text/plain": [
              "0    350.640107\n",
              "1    322.287377\n",
              "2    308.111012\n",
              "3    378.992838\n",
              "dtype: float64"
            ]
          },
          "metadata": {},
          "execution_count": 13
        }
      ]
    }
  ]
}