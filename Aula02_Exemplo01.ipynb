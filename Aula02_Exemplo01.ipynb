{
  "nbformat": 4,
  "nbformat_minor": 0,
  "metadata": {
    "colab": {
      "provenance": [],
      "authorship_tag": "ABX9TyOoS8OCqAvFJaCwOcBEkUT9",
      "include_colab_link": true
    },
    "kernelspec": {
      "name": "python3",
      "display_name": "Python 3"
    },
    "language_info": {
      "name": "python"
    }
  },
  "cells": [
    {
      "cell_type": "markdown",
      "metadata": {
        "id": "view-in-github",
        "colab_type": "text"
      },
      "source": [
        "<a href=\"https://colab.research.google.com/github/daniel-usp/MachineLearning/blob/main/Aula02_Exemplo01.ipynb\" target=\"_parent\"><img src=\"https://colab.research.google.com/assets/colab-badge.svg\" alt=\"Open In Colab\"/></a>"
      ]
    },
    {
      "cell_type": "code",
      "execution_count": 2,
      "metadata": {
        "colab": {
          "base_uri": "https://localhost:8080/"
        },
        "id": "rtnFvbD3yQnr",
        "outputId": "c631a738-4260-4091-93a2-0acdccc49a6a"
      },
      "outputs": [
        {
          "output_type": "stream",
          "name": "stdout",
          "text": [
            "O ativo está barato, oportunidade de compra\n"
          ]
        }
      ],
      "source": [
        "preço_mercado = 200  # 450 é armazenado na variável preço_mercado\n",
        "preço_esperado = 308.55  # 308.55 é armazenado na variável preço_esperado\n",
        "\n",
        "# Barato: preço_mercado < preço_esperado e preço_mercado <= 300\n",
        "\n",
        "if preço_mercado < preço_esperado and preço_mercado <= 300:\n",
        "    print(\"O ativo está barato, oportunidade de compra\")\n",
        "else:\n",
        "    print(\"O ativo está caro, situação de venda\")\n"
      ]
    }
  ]
}