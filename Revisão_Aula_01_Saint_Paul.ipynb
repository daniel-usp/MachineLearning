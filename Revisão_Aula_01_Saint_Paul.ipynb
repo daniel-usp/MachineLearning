{
  "nbformat": 4,
  "nbformat_minor": 0,
  "metadata": {
    "colab": {
      "provenance": [],
      "authorship_tag": "ABX9TyOxYWDYKgKJE6eaeSKirfLN",
      "include_colab_link": true
    },
    "kernelspec": {
      "name": "python3",
      "display_name": "Python 3"
    },
    "language_info": {
      "name": "python"
    }
  },
  "cells": [
    {
      "cell_type": "markdown",
      "metadata": {
        "id": "view-in-github",
        "colab_type": "text"
      },
      "source": [
        "<a href=\"https://colab.research.google.com/github/daniel-usp/MachineLearning/blob/main/Revis%C3%A3o_Aula_01_Saint_Paul.ipynb\" target=\"_parent\"><img src=\"https://colab.research.google.com/assets/colab-badge.svg\" alt=\"Open In Colab\"/></a>"
      ]
    },
    {
      "cell_type": "code",
      "execution_count": 6,
      "metadata": {
        "colab": {
          "base_uri": "https://localhost:8080/"
        },
        "id": "cK21_H9lf-di",
        "outputId": "e19f8b44-ebb9-4b5c-c43c-f92ad5a8abae"
      },
      "outputs": [
        {
          "output_type": "execute_result",
          "data": {
            "text/plain": [
              "([10, 30, 35, 40, 50, 60], [67, 68, 70, 73, 74, 75])"
            ]
          },
          "metadata": {},
          "execution_count": 6
        }
      ],
      "source": [
        "vendas = [10, 30, 35,40,50,60,67,\n",
        "          68,70,73,74,75]\n",
        "\n",
        "vendas_primeiro_semestre = vendas[:6] #Pegar os 6 primeiros\n",
        "vendas_segundo_semestre = vendas[6:] #Pegar os 6 últimos\n",
        "vendas_primeiro_semestre, vendas_segundo_semestre"
      ]
    },
    {
      "cell_type": "code",
      "source": [
        "#Exercício de Vendas\n",
        "\n",
        "meta = 100000\n",
        "venda = 200000\n",
        "\n",
        "#Usar o if para dizer se bateu ou não a meta\n",
        "if venda > meta:\n",
        "  print(\"bateu a meta\")\n",
        "else:\n",
        "  print(\"não bateu a meta\")\n",
        "\n",
        "vendas = [80000, 120000, 150000, 90000, 210000]\n",
        "\n",
        "for venda in vendas:\n",
        "  if venda > meta:\n",
        "    print(\"bateu a meta\")\n",
        "  else:\n",
        "    print(\"não bateu a meta\")\n",
        "\n",
        "#List Comprehension\n",
        "resultado = [(\"bateu a meta\", venda)\n",
        "            if venda > meta\n",
        "            else (\"não bateu a meta\", venda)\n",
        "            for venda in vendas]\n",
        "resultado\n"
      ],
      "metadata": {
        "colab": {
          "base_uri": "https://localhost:8080/"
        },
        "id": "gpZ5EX8whYi1",
        "outputId": "cb125e9e-f160-4cf4-f71f-433f554c15af"
      },
      "execution_count": 14,
      "outputs": [
        {
          "output_type": "stream",
          "name": "stdout",
          "text": [
            "bateu a meta\n",
            "não bateu a meta\n",
            "bateu a meta\n",
            "bateu a meta\n",
            "não bateu a meta\n",
            "bateu a meta\n"
          ]
        },
        {
          "output_type": "execute_result",
          "data": {
            "text/plain": [
              "[('não bateu a meta', 80000),\n",
              " ('bateu a meta', 120000),\n",
              " ('bateu a meta', 150000),\n",
              " ('não bateu a meta', 90000),\n",
              " ('bateu a meta', 210000)]"
            ]
          },
          "metadata": {},
          "execution_count": 14
        }
      ]
    },
    {
      "cell_type": "code",
      "source": [
        "#Dicionários"
      ],
      "metadata": {
        "id": "H5NU3nOIlCL2"
      },
      "execution_count": null,
      "outputs": []
    }
  ]
}