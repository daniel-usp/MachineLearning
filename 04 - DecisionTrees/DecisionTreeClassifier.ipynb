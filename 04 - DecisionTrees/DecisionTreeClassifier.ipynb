{
  "nbformat": 4,
  "nbformat_minor": 0,
  "metadata": {
    "colab": {
      "provenance": [],
      "authorship_tag": "ABX9TyMwXyZQr+sOj7kFzq139Cw7",
      "include_colab_link": true
    },
    "kernelspec": {
      "name": "python3",
      "display_name": "Python 3"
    },
    "language_info": {
      "name": "python"
    }
  },
  "cells": [
    {
      "cell_type": "markdown",
      "metadata": {
        "id": "view-in-github",
        "colab_type": "text"
      },
      "source": [
        "<a href=\"https://colab.research.google.com/github/daniel-usp/MachineLearning/blob/main/DecisionTreeClassifier.ipynb\" target=\"_parent\"><img src=\"https://colab.research.google.com/assets/colab-badge.svg\" alt=\"Open In Colab\"/></a>"
      ]
    },
    {
      "cell_type": "code",
      "execution_count": null,
      "metadata": {
        "colab": {
          "base_uri": "https://localhost:8080/",
          "height": 411
        },
        "id": "2PepoGfAbLLj",
        "outputId": "197e2e36-b5fc-4e78-bf38-b8a4faafc3b2"
      },
      "outputs": [
        {
          "output_type": "execute_result",
          "data": {
            "text/plain": [
              "      idade  temp_cli  linhas    renda  temp_rsd  tvcabo  premiere  fatura\n",
              "0        51        26       4   5320.0       7.3       1         0     543\n",
              "1        36        16       2   5620.0       4.5       1         0     482\n",
              "2        35        15       1   4860.0       4.8       0         0     593\n",
              "3        40        22       1   6590.0       6.2       1         0    1184\n",
              "4        52        30       1   6370.0       2.2       0         0     634\n",
              "...     ...       ...     ...      ...       ...     ...       ...     ...\n",
              "1995     31        15       4  10170.0       1.5       0         1     625\n",
              "1996     37        18       4  12230.0       4.6       1         1    4322\n",
              "1997     29        12       5   5590.0       6.7       1         0     517\n",
              "1998     34        14       1   4760.0       6.9       1         0     528\n",
              "1999     31        20       1   6150.0       3.2       1         0    1076\n",
              "\n",
              "[2000 rows x 8 columns]"
            ],
            "text/html": [
              "\n",
              "\n",
              "  <div id=\"df-b6e557bc-03f2-4f9f-aa9d-7dfb4e4d3043\">\n",
              "    <div class=\"colab-df-container\">\n",
              "      <div>\n",
              "<style scoped>\n",
              "    .dataframe tbody tr th:only-of-type {\n",
              "        vertical-align: middle;\n",
              "    }\n",
              "\n",
              "    .dataframe tbody tr th {\n",
              "        vertical-align: top;\n",
              "    }\n",
              "\n",
              "    .dataframe thead th {\n",
              "        text-align: right;\n",
              "    }\n",
              "</style>\n",
              "<table border=\"1\" class=\"dataframe\">\n",
              "  <thead>\n",
              "    <tr style=\"text-align: right;\">\n",
              "      <th></th>\n",
              "      <th>idade</th>\n",
              "      <th>temp_cli</th>\n",
              "      <th>linhas</th>\n",
              "      <th>renda</th>\n",
              "      <th>temp_rsd</th>\n",
              "      <th>tvcabo</th>\n",
              "      <th>premiere</th>\n",
              "      <th>fatura</th>\n",
              "    </tr>\n",
              "  </thead>\n",
              "  <tbody>\n",
              "    <tr>\n",
              "      <th>0</th>\n",
              "      <td>51</td>\n",
              "      <td>26</td>\n",
              "      <td>4</td>\n",
              "      <td>5320.0</td>\n",
              "      <td>7.3</td>\n",
              "      <td>1</td>\n",
              "      <td>0</td>\n",
              "      <td>543</td>\n",
              "    </tr>\n",
              "    <tr>\n",
              "      <th>1</th>\n",
              "      <td>36</td>\n",
              "      <td>16</td>\n",
              "      <td>2</td>\n",
              "      <td>5620.0</td>\n",
              "      <td>4.5</td>\n",
              "      <td>1</td>\n",
              "      <td>0</td>\n",
              "      <td>482</td>\n",
              "    </tr>\n",
              "    <tr>\n",
              "      <th>2</th>\n",
              "      <td>35</td>\n",
              "      <td>15</td>\n",
              "      <td>1</td>\n",
              "      <td>4860.0</td>\n",
              "      <td>4.8</td>\n",
              "      <td>0</td>\n",
              "      <td>0</td>\n",
              "      <td>593</td>\n",
              "    </tr>\n",
              "    <tr>\n",
              "      <th>3</th>\n",
              "      <td>40</td>\n",
              "      <td>22</td>\n",
              "      <td>1</td>\n",
              "      <td>6590.0</td>\n",
              "      <td>6.2</td>\n",
              "      <td>1</td>\n",
              "      <td>0</td>\n",
              "      <td>1184</td>\n",
              "    </tr>\n",
              "    <tr>\n",
              "      <th>4</th>\n",
              "      <td>52</td>\n",
              "      <td>30</td>\n",
              "      <td>1</td>\n",
              "      <td>6370.0</td>\n",
              "      <td>2.2</td>\n",
              "      <td>0</td>\n",
              "      <td>0</td>\n",
              "      <td>634</td>\n",
              "    </tr>\n",
              "    <tr>\n",
              "      <th>...</th>\n",
              "      <td>...</td>\n",
              "      <td>...</td>\n",
              "      <td>...</td>\n",
              "      <td>...</td>\n",
              "      <td>...</td>\n",
              "      <td>...</td>\n",
              "      <td>...</td>\n",
              "      <td>...</td>\n",
              "    </tr>\n",
              "    <tr>\n",
              "      <th>1995</th>\n",
              "      <td>31</td>\n",
              "      <td>15</td>\n",
              "      <td>4</td>\n",
              "      <td>10170.0</td>\n",
              "      <td>1.5</td>\n",
              "      <td>0</td>\n",
              "      <td>1</td>\n",
              "      <td>625</td>\n",
              "    </tr>\n",
              "    <tr>\n",
              "      <th>1996</th>\n",
              "      <td>37</td>\n",
              "      <td>18</td>\n",
              "      <td>4</td>\n",
              "      <td>12230.0</td>\n",
              "      <td>4.6</td>\n",
              "      <td>1</td>\n",
              "      <td>1</td>\n",
              "      <td>4322</td>\n",
              "    </tr>\n",
              "    <tr>\n",
              "      <th>1997</th>\n",
              "      <td>29</td>\n",
              "      <td>12</td>\n",
              "      <td>5</td>\n",
              "      <td>5590.0</td>\n",
              "      <td>6.7</td>\n",
              "      <td>1</td>\n",
              "      <td>0</td>\n",
              "      <td>517</td>\n",
              "    </tr>\n",
              "    <tr>\n",
              "      <th>1998</th>\n",
              "      <td>34</td>\n",
              "      <td>14</td>\n",
              "      <td>1</td>\n",
              "      <td>4760.0</td>\n",
              "      <td>6.9</td>\n",
              "      <td>1</td>\n",
              "      <td>0</td>\n",
              "      <td>528</td>\n",
              "    </tr>\n",
              "    <tr>\n",
              "      <th>1999</th>\n",
              "      <td>31</td>\n",
              "      <td>20</td>\n",
              "      <td>1</td>\n",
              "      <td>6150.0</td>\n",
              "      <td>3.2</td>\n",
              "      <td>1</td>\n",
              "      <td>0</td>\n",
              "      <td>1076</td>\n",
              "    </tr>\n",
              "  </tbody>\n",
              "</table>\n",
              "<p>2000 rows × 8 columns</p>\n",
              "</div>\n",
              "      <button class=\"colab-df-convert\" onclick=\"convertToInteractive('df-b6e557bc-03f2-4f9f-aa9d-7dfb4e4d3043')\"\n",
              "              title=\"Convert this dataframe to an interactive table.\"\n",
              "              style=\"display:none;\">\n",
              "\n",
              "  <svg xmlns=\"http://www.w3.org/2000/svg\" height=\"24px\"viewBox=\"0 0 24 24\"\n",
              "       width=\"24px\">\n",
              "    <path d=\"M0 0h24v24H0V0z\" fill=\"none\"/>\n",
              "    <path d=\"M18.56 5.44l.94 2.06.94-2.06 2.06-.94-2.06-.94-.94-2.06-.94 2.06-2.06.94zm-11 1L8.5 8.5l.94-2.06 2.06-.94-2.06-.94L8.5 2.5l-.94 2.06-2.06.94zm10 10l.94 2.06.94-2.06 2.06-.94-2.06-.94-.94-2.06-.94 2.06-2.06.94z\"/><path d=\"M17.41 7.96l-1.37-1.37c-.4-.4-.92-.59-1.43-.59-.52 0-1.04.2-1.43.59L10.3 9.45l-7.72 7.72c-.78.78-.78 2.05 0 2.83L4 21.41c.39.39.9.59 1.41.59.51 0 1.02-.2 1.41-.59l7.78-7.78 2.81-2.81c.8-.78.8-2.07 0-2.86zM5.41 20L4 18.59l7.72-7.72 1.47 1.35L5.41 20z\"/>\n",
              "  </svg>\n",
              "      </button>\n",
              "\n",
              "\n",
              "\n",
              "    <div id=\"df-a26da30d-3fe3-4104-b6d1-66a4892f90b4\">\n",
              "      <button class=\"colab-df-quickchart\" onclick=\"quickchart('df-a26da30d-3fe3-4104-b6d1-66a4892f90b4')\"\n",
              "              title=\"Suggest charts.\"\n",
              "              style=\"display:none;\">\n",
              "\n",
              "<svg xmlns=\"http://www.w3.org/2000/svg\" height=\"24px\"viewBox=\"0 0 24 24\"\n",
              "     width=\"24px\">\n",
              "    <g>\n",
              "        <path d=\"M19 3H5c-1.1 0-2 .9-2 2v14c0 1.1.9 2 2 2h14c1.1 0 2-.9 2-2V5c0-1.1-.9-2-2-2zM9 17H7v-7h2v7zm4 0h-2V7h2v10zm4 0h-2v-4h2v4z\"/>\n",
              "    </g>\n",
              "</svg>\n",
              "      </button>\n",
              "    </div>\n",
              "\n",
              "<style>\n",
              "  .colab-df-quickchart {\n",
              "    background-color: #E8F0FE;\n",
              "    border: none;\n",
              "    border-radius: 50%;\n",
              "    cursor: pointer;\n",
              "    display: none;\n",
              "    fill: #1967D2;\n",
              "    height: 32px;\n",
              "    padding: 0 0 0 0;\n",
              "    width: 32px;\n",
              "  }\n",
              "\n",
              "  .colab-df-quickchart:hover {\n",
              "    background-color: #E2EBFA;\n",
              "    box-shadow: 0px 1px 2px rgba(60, 64, 67, 0.3), 0px 1px 3px 1px rgba(60, 64, 67, 0.15);\n",
              "    fill: #174EA6;\n",
              "  }\n",
              "\n",
              "  [theme=dark] .colab-df-quickchart {\n",
              "    background-color: #3B4455;\n",
              "    fill: #D2E3FC;\n",
              "  }\n",
              "\n",
              "  [theme=dark] .colab-df-quickchart:hover {\n",
              "    background-color: #434B5C;\n",
              "    box-shadow: 0px 1px 3px 1px rgba(0, 0, 0, 0.15);\n",
              "    filter: drop-shadow(0px 1px 2px rgba(0, 0, 0, 0.3));\n",
              "    fill: #FFFFFF;\n",
              "  }\n",
              "</style>\n",
              "\n",
              "    <script>\n",
              "      async function quickchart(key) {\n",
              "        const containerElement = document.querySelector('#' + key);\n",
              "        const charts = await google.colab.kernel.invokeFunction(\n",
              "            'suggestCharts', [key], {});\n",
              "      }\n",
              "    </script>\n",
              "\n",
              "      <script>\n",
              "\n",
              "function displayQuickchartButton(domScope) {\n",
              "  let quickchartButtonEl =\n",
              "    domScope.querySelector('#df-a26da30d-3fe3-4104-b6d1-66a4892f90b4 button.colab-df-quickchart');\n",
              "  quickchartButtonEl.style.display =\n",
              "    google.colab.kernel.accessAllowed ? 'block' : 'none';\n",
              "}\n",
              "\n",
              "        displayQuickchartButton(document);\n",
              "      </script>\n",
              "      <style>\n",
              "    .colab-df-container {\n",
              "      display:flex;\n",
              "      flex-wrap:wrap;\n",
              "      gap: 12px;\n",
              "    }\n",
              "\n",
              "    .colab-df-convert {\n",
              "      background-color: #E8F0FE;\n",
              "      border: none;\n",
              "      border-radius: 50%;\n",
              "      cursor: pointer;\n",
              "      display: none;\n",
              "      fill: #1967D2;\n",
              "      height: 32px;\n",
              "      padding: 0 0 0 0;\n",
              "      width: 32px;\n",
              "    }\n",
              "\n",
              "    .colab-df-convert:hover {\n",
              "      background-color: #E2EBFA;\n",
              "      box-shadow: 0px 1px 2px rgba(60, 64, 67, 0.3), 0px 1px 3px 1px rgba(60, 64, 67, 0.15);\n",
              "      fill: #174EA6;\n",
              "    }\n",
              "\n",
              "    [theme=dark] .colab-df-convert {\n",
              "      background-color: #3B4455;\n",
              "      fill: #D2E3FC;\n",
              "    }\n",
              "\n",
              "    [theme=dark] .colab-df-convert:hover {\n",
              "      background-color: #434B5C;\n",
              "      box-shadow: 0px 1px 3px 1px rgba(0, 0, 0, 0.15);\n",
              "      filter: drop-shadow(0px 1px 2px rgba(0, 0, 0, 0.3));\n",
              "      fill: #FFFFFF;\n",
              "    }\n",
              "  </style>\n",
              "\n",
              "      <script>\n",
              "        const buttonEl =\n",
              "          document.querySelector('#df-b6e557bc-03f2-4f9f-aa9d-7dfb4e4d3043 button.colab-df-convert');\n",
              "        buttonEl.style.display =\n",
              "          google.colab.kernel.accessAllowed ? 'block' : 'none';\n",
              "\n",
              "        async function convertToInteractive(key) {\n",
              "          const element = document.querySelector('#df-b6e557bc-03f2-4f9f-aa9d-7dfb4e4d3043');\n",
              "          const dataTable =\n",
              "            await google.colab.kernel.invokeFunction('convertToInteractive',\n",
              "                                                     [key], {});\n",
              "          if (!dataTable) return;\n",
              "\n",
              "          const docLinkHtml = 'Like what you see? Visit the ' +\n",
              "            '<a target=\"_blank\" href=https://colab.research.google.com/notebooks/data_table.ipynb>data table notebook</a>'\n",
              "            + ' to learn more about interactive tables.';\n",
              "          element.innerHTML = '';\n",
              "          dataTable['output_type'] = 'display_data';\n",
              "          await google.colab.output.renderOutput(dataTable, element);\n",
              "          const docLink = document.createElement('div');\n",
              "          docLink.innerHTML = docLinkHtml;\n",
              "          element.appendChild(docLink);\n",
              "        }\n",
              "      </script>\n",
              "    </div>\n",
              "  </div>\n"
            ]
          },
          "metadata": {},
          "execution_count": 19
        }
      ],
      "source": [
        "from sklearn.datasets import load_iris\n",
        "import pandas as pd\n",
        "\n",
        "#Banco de Dados Geral\n",
        "dados = pd.read_excel('https://github.com/daniel-usp/Curso/raw/main/DecisionTree/assinatura.xlsx')\n",
        "dados\n",
        "\n",
        "\n",
        "\n"
      ]
    },
    {
      "cell_type": "code",
      "source": [
        "#Declarar X e Y\n",
        "y = dados['cancel']\n",
        "x = dados.drop('cancel', axis =1)\n",
        "features = x.columns\n"
      ],
      "metadata": {
        "id": "XvjtzEdFMuiD"
      },
      "execution_count": null,
      "outputs": []
    },
    {
      "cell_type": "code",
      "source": [
        "#Separar em amostra treino e teste pelo sklearn\n",
        "\n",
        "from sklearn.model_selection import train_test_split\n",
        "from sklearn.model_selection import cross_val_score\n",
        "from sklearn.model_selection import StratifiedKFold\n",
        "from sklearn.tree import DecisionTreeClassifier\n",
        "\n",
        "\n",
        "# Dividir os dados em conjuntos de treinamento e teste\n",
        "X_train, X_test, y_train, y_test = train_test_split(x, y, test_size=0.2, random_state=42)\n",
        "\n",
        "# Cria um objeto do classificador DecisionTree\n",
        "model = DecisionTreeClassifier(random_state=42)\n",
        "\n",
        "# Treina o classificador com o conjunto de treinamento\n",
        "model.fit(X_train, y_train)\n",
        "\n",
        "# Calcula os cross validation scores\n",
        "scores = cross_val_score(model, x, y, cv=5)\n",
        "\n",
        "# Printa os scores\n",
        "print('Cross-validation scores: ', scores)\n",
        "\n",
        "# Printa a média dos scores\n",
        "print('Average cross-validation score: ', scores.mean())\n",
        "\n"
      ],
      "metadata": {
        "colab": {
          "base_uri": "https://localhost:8080/"
        },
        "id": "Qd5jswt5ZSVo",
        "outputId": "77f2a62d-8edb-4577-8c62-c9b857d7fec9"
      },
      "execution_count": null,
      "outputs": [
        {
          "output_type": "stream",
          "name": "stdout",
          "text": [
            "Cross-validation scores:  [0.71  0.74  0.725 0.715 0.69 ]\n",
            "Average cross-validation score:  0.716\n"
          ]
        }
      ]
    },
    {
      "cell_type": "code",
      "source": [
        "from sklearn.model_selection import cross_val_score\n",
        "from sklearn.tree import DecisionTreeClassifier\n",
        "\n",
        "#Criação do modelo\n",
        "modelo = DecisionTreeClassifier()\n",
        "resultado = cross_val_score(modelo, x,y, cv = 5)\n",
        "\n",
        "#Imprimindo a acurácia\n",
        "print(resultado.mean())\n",
        "\n"
      ],
      "metadata": {
        "colab": {
          "base_uri": "https://localhost:8080/"
        },
        "id": "oFRYMv3fcDwa",
        "outputId": "4a3fc869-b454-4cae-e293-50b9d1a925ef"
      },
      "execution_count": null,
      "outputs": [
        {
          "output_type": "stream",
          "name": "stdout",
          "text": [
            "0.7250000000000001\n"
          ]
        }
      ]
    },
    {
      "cell_type": "code",
      "source": [
        "y.unique()"
      ],
      "metadata": {
        "colab": {
          "base_uri": "https://localhost:8080/"
        },
        "id": "2At2dSP6bXQk",
        "outputId": "8fc9c876-4510-4fa0-e4ef-f7dc7aa11770"
      },
      "execution_count": null,
      "outputs": [
        {
          "output_type": "execute_result",
          "data": {
            "text/plain": [
              "array([0, 1])"
            ]
          },
          "metadata": {},
          "execution_count": 7
        }
      ]
    },
    {
      "cell_type": "code",
      "source": [
        "import graphviz\n",
        "from sklearn.tree import export_graphviz"
      ],
      "metadata": {
        "id": "jdKaD6DGeho1"
      },
      "execution_count": null,
      "outputs": []
    },
    {
      "cell_type": "code",
      "source": [
        "import io\n",
        "import graphviz\n",
        "from sklearn.tree import export_graphviz\n",
        "\n",
        "# Ajustando o modelo\n",
        "modelo.fit(x, y)\n",
        "\n",
        "# Gerando o gráfico da árvore de decisão:\n",
        "features = x.columns\n",
        "class_names = ['y=0', 'y=1']  # Rótulos das classes alvo\n",
        "\n",
        "dot_data = io.StringIO()\n",
        "export_graphviz(modelo, out_file=dot_data, feature_names=features, class_names=class_names, filled=True, proportion=True)\n",
        "\n",
        "graph = graphviz.Source(dot_data.getvalue())\n",
        "graph.view()\n"
      ],
      "metadata": {
        "colab": {
          "base_uri": "https://localhost:8080/",
          "height": 34
        },
        "id": "RV_8DA7HfALt",
        "outputId": "a2cb374a-ef5d-49a1-d9a2-6ab1c7a139c0"
      },
      "execution_count": null,
      "outputs": [
        {
          "output_type": "execute_result",
          "data": {
            "text/plain": [
              "'Source.gv.pdf'"
            ],
            "application/vnd.google.colaboratory.intrinsic+json": {
              "type": "string"
            }
          },
          "metadata": {},
          "execution_count": 16
        }
      ]
    },
    {
      "cell_type": "code",
      "source": [
        "valores = y.unique()\n",
        "valores"
      ],
      "metadata": {
        "colab": {
          "base_uri": "https://localhost:8080/"
        },
        "id": "vxGoPsjsxh4C",
        "outputId": "5d7dbb96-92b4-42ce-c8af-9581a63cc0f1"
      },
      "execution_count": null,
      "outputs": [
        {
          "output_type": "execute_result",
          "data": {
            "text/plain": [
              "array([0, 1])"
            ]
          },
          "metadata": {},
          "execution_count": 10
        }
      ]
    },
    {
      "cell_type": "code",
      "source": [
        "import numpy as np\n",
        "from sklearn.model_selection import GridSearchCV\n",
        "\n",
        "#Definindo os valores que serão testados em DecisionTree:\n",
        "minimos_split = np.array([2,3,4,5,6,7,8])\n",
        "maximo_nivel = np.array([3,4,5,6,7,8,9])\n",
        "algoritmo = ['gini']\n",
        "valores_grid = {'min_samples_split': minimos_split, 'max_depth': maximo_nivel, 'criterion': algoritmo}\n",
        "\n",
        "#Criação do Modelo\n",
        "modelo = DecisionTreeClassifier()\n",
        "\n",
        "#Criando os grids\n",
        "gridDecisionTree = GridSearchCV(estimator = modelo, param_grid = valores_grid, cv = 5)\n",
        "gridDecisionTree.fit(x,y)\n",
        "\n",
        "#Imprimindo os melhores parâmetros\n",
        "print(\"Mínimo split: \", gridDecisionTree.best_estimator_.min_samples_split)\n",
        "print(\"Máxima profundidade: \", gridDecisionTree.best_estimator_.max_depth)\n",
        "print(\"Critério: \", gridDecisionTree.best_estimator_.criterion)\n",
        "print(\"Acurácia: \", gridDecisionTree.best_score_)\n"
      ],
      "metadata": {
        "id": "5Bz29ahPjFbH",
        "colab": {
          "base_uri": "https://localhost:8080/"
        },
        "outputId": "95a6ee35-e8e7-45eb-c39f-87db13726e9b"
      },
      "execution_count": null,
      "outputs": [
        {
          "output_type": "stream",
          "name": "stdout",
          "text": [
            "Mínimo split:  2\n",
            "Máxima profundidade:  3\n",
            "Critério:  gini\n",
            "Acurácia:  0.783\n"
          ]
        }
      ]
    },
    {
      "cell_type": "code",
      "source": [
        "import io\n",
        "import graphviz\n",
        "from sklearn.tree import DecisionTreeClassifier\n",
        "from sklearn.tree import export_graphviz\n",
        "\n",
        "# Ajuste do melhor modelo\n",
        "melhor_modelo = DecisionTreeClassifier(min_samples_split = gridDecisionTree.best_estimator_.min_samples_split,\n",
        "                                      max_depth = gridDecisionTree.best_estimator_.max_depth)\n",
        "melhor_modelo.fit(x, y)\n",
        "\n",
        "# Gerando o gráfico da árvore de decisão:\n",
        "features = x.columns\n",
        "class_names = ['Not Cancel', 'Cancel']  # Rótulos das classes alvo\n",
        "\n",
        "dot_data = io.StringIO()\n",
        "export_graphviz(melhor_modelo, out_file=dot_data, feature_names=features, class_names=class_names, filled=True, proportion=True)\n",
        "\n",
        "graph = graphviz.Source(dot_data.getvalue())\n",
        "graph.view()\n"
      ],
      "metadata": {
        "colab": {
          "base_uri": "https://localhost:8080/",
          "height": 34
        },
        "id": "bBiafQLWvSCV",
        "outputId": "daa47fb6-d42b-4fdd-c241-bd2dd10a3401"
      },
      "execution_count": null,
      "outputs": [
        {
          "output_type": "execute_result",
          "data": {
            "text/plain": [
              "'Source.gv.pdf'"
            ],
            "application/vnd.google.colaboratory.intrinsic+json": {
              "type": "string"
            }
          },
          "metadata": {},
          "execution_count": 17
        }
      ]
    },
    {
      "cell_type": "code",
      "source": [
        "dados = [[50,20,100,5000,20,1,0,500],[60,10,200,4000,20,1,0,50]]\n",
        "\n",
        "melhor_modelo.predict(dados)"
      ],
      "metadata": {
        "colab": {
          "base_uri": "https://localhost:8080/"
        },
        "id": "Muz8FssXoxOe",
        "outputId": "f7b2fa57-816f-488d-fd18-1230ae56c38f"
      },
      "execution_count": null,
      "outputs": [
        {
          "output_type": "stream",
          "name": "stderr",
          "text": [
            "/usr/local/lib/python3.10/dist-packages/sklearn/base.py:439: UserWarning: X does not have valid feature names, but DecisionTreeClassifier was fitted with feature names\n",
            "  warnings.warn(\n"
          ]
        },
        {
          "output_type": "execute_result",
          "data": {
            "text/plain": [
              "array([0, 0])"
            ]
          },
          "metadata": {},
          "execution_count": 14
        }
      ]
    }
  ]
}