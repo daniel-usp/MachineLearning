{
  "nbformat": 4,
  "nbformat_minor": 0,
  "metadata": {
    "colab": {
      "provenance": [],
      "authorship_tag": "ABX9TyNDg/iJZ7VFRxzuWxwf5osF",
      "include_colab_link": true
    },
    "kernelspec": {
      "name": "python3",
      "display_name": "Python 3"
    },
    "language_info": {
      "name": "python"
    }
  },
  "cells": [
    {
      "cell_type": "markdown",
      "metadata": {
        "id": "view-in-github",
        "colab_type": "text"
      },
      "source": [
        "<a href=\"https://colab.research.google.com/github/daniel-usp/MachineLearning/blob/main/Trabalho%20Final%20da%20Disciplina/Projeto_Detec%C3%A7%C3%A3o_Fraude_Cart%C3%A3o_de_Cr%C3%A9dito.ipynb\" target=\"_parent\"><img src=\"https://colab.research.google.com/assets/colab-badge.svg\" alt=\"Open In Colab\"/></a>"
      ]
    },
    {
      "cell_type": "markdown",
      "source": [
        "# <font color= red> Desvendando a Era dos Pagamentos Digitais: Uma Batalha contra os Vilões da Tecnologia!</font>\n",
        "\n",
        "\n",
        "## <font color=blue> Introdução:\n",
        "Imagine um mundo onde todas as suas transações financeiras ocorrem com um simples toque na tela do seu dispositivo. O dinheiro físico é coisa do passado, e os pagamentos digitais são a nova realidade. Mas, assim como a tecnologia avança, os criminosos cibernéticos também evoluem, buscando brechas para realizar fraudes em uma escala impressionante.\n",
        "\n",
        "## <font color=blue> Panorama Alarmante:\n",
        "De acordo com o Impacto de Violação de Dados, a cada dia, mais de 5 milhões de registros estão sendo roubados! Essa estatística chocante nos alerta sobre a constante ameaça de fraudes, tanto em pagamentos presenciais quanto em compras online.\n",
        "\n",
        "## <font color=blue> O Desafio da Detecção de Fraudes:\n",
        "Em um mundo onde trilhões de transações com cartões são realizadas diariamente, detectar fraudes tornou-se uma tarefa desafiadora. Os criminosos são ágeis e se aproveitam de cada oportunidade para roubar informações valiosas. Mas não estamos desamparados nessa batalha!\n",
        "\n",
        "## <font color=blue> O Poder dos Dados:\n",
        "Nossas armas para combater esses vilões cibernéticos são os dados! E é nesse ponto que um conjunto de dados misterioso entra em cena, proveniente de uma instituição não revelada. Esse tesouro esconde informações cruciais que podem nos ajudar a desvendar os padrões e comportamentos dos fraudadores.\n",
        "\n",
        "## <font color=blue> Investigando o Conjunto de Dados:\n",
        "Vamos explorar as características que compõem esse enigma digital:\n",
        "<font color=black>\n",
        "1. **Distância do Lar:** Quão longe está a transação da sua residência?\n",
        "2. **Distância da Última Transação:** Qual a distância em relação à última transação?\n",
        "3. **Proporção em relação ao Preço Médio de Compra:** Qual é a proporção do preço da compra em relação à média de compras?\n",
        "4. **Transação Repetida no Mesmo Varejista:** A transação foi feita no mesmo varejista?\n",
        "5. **Uso do Chip:** A transação foi realizada com o chip do cartão de crédito?\n",
        "6. **Uso de Número PIN:** A transação foi feita usando o número PIN?\n",
        "7. **Compra Online:** A transação foi uma compra online?\n",
        "8. **Fraude ou não Fraude:** A transação é legítima ou é uma tentativa de fraude?\n",
        "\n",
        "## <font color=blue> Aventura no Mundo dos Dados:\n",
        "Embarque conosco nesta jornada emocionante, onde desvendaremos os segredos escondidos nos dados e buscaremos os padrões que nos permitirão lutar contra a fraude! Cada caractere, cada número, nos aproximará da verdade e nos capacitará a tomar decisões mais inteligentes e proteger nossas transações digitais.\n",
        "\n",
        "\n",
        "Junte-se a nós nessa emocionante jornada de descobertas e vamos desafiar os limites da tecnologia para um mundo digital mais seguro e confiável!\n",
        "\n",
        "\n",
        "\n",
        "\n"
      ],
      "metadata": {
        "id": "FUq0V0HZUYer"
      }
    },
    {
      "cell_type": "markdown",
      "source": [
        "## <font color=blue> Atividade\n",
        "\n",
        "Nesta atividade, exploraremos a detecção de fraudes em pagamentos digitais usando dois modelos de aprendizado de máquina amplamente utilizados: Random Forest e Regressão Logística. Nosso objetivo é construir esses modelos e comparar seu grau de acurácia fora da amostra.\n",
        "\n",
        "Para começar, sigam os passos abaixo:\n",
        "\n",
        "1. Acessem o link do Kaggle fornecido: [Conjunto de dados - Credit Card Fraud](https://www.kaggle.com/datasets/dhanushnarayananr/credit-card-fraud). Façam o download do conjunto de dados e carreguem-no no ambiente do Google Colab ou Jupyter Notebook.\n",
        "\n",
        "2. Dividam o conjunto de dados em um conjunto de treinamento (train) e um conjunto de teste (test). Utilizem, por exemplo, o método `train_test_split` da biblioteca `scikit-learn`.\n",
        "\n",
        "3. Construam um modelo de Regressão Logística utilizando a classe `LogisticRegression` da biblioteca `scikit-learn`. Treinem o modelo utilizando o conjunto de treinamento.\n",
        "\n",
        "4. Construam um modelo de Random Forest utilizando a classe `RandomForestClassifier` da biblioteca `scikit-learn`. Treinem o modelo utilizando o conjunto de treinamento.\n",
        "\n",
        "5. Realizem a previsão dos rótulos (fraude ou não fraude) para o conjunto de teste utilizando ambos os modelos.\n",
        "\n",
        "6. Calculem a acurácia fora da amostra para cada modelo, comparando as previsões com os rótulos verdadeiros do conjunto de teste.\n",
        "\n",
        "7. Comparem os resultados dos dois modelos e discutam suas observações sobre a eficácia de cada um na detecção de fraudes em pagamentos digitais.\n",
        "\n",
        "Lembrem-se de documentar adequadamente o código, explicando cada passo que estão realizando. Utilizem gráficos e tabelas, se necessário, para ilustrar suas conclusões.\n",
        "\n",
        "Divirtam-se explorando e aprendendo com os modelos! Boa análise de dados e detecção de fraudes!\n"
      ],
      "metadata": {
        "id": "EZ5OeUekhFKZ"
      }
    },
    {
      "cell_type": "code",
      "execution_count": 2,
      "metadata": {
        "colab": {
          "base_uri": "https://localhost:8080/"
        },
        "id": "_yMU_cEWRBm9",
        "outputId": "1cc22066-c688-4d5f-9d2d-440c7329503e"
      },
      "outputs": [
        {
          "output_type": "stream",
          "name": "stdout",
          "text": [
            "<class 'pandas.core.frame.DataFrame'>\n",
            "RangeIndex: 811048 entries, 0 to 811047\n",
            "Data columns (total 8 columns):\n",
            " #   Column                          Non-Null Count   Dtype  \n",
            "---  ------                          --------------   -----  \n",
            " 0   distance_from_home              811048 non-null  float64\n",
            " 1   distance_from_last_transaction  811047 non-null  float64\n",
            " 2   ratio_to_median_purchase_price  811047 non-null  float64\n",
            " 3   repeat_retailer                 811047 non-null  float64\n",
            " 4   used_chip                       811047 non-null  float64\n",
            " 5   used_pin_number                 811047 non-null  float64\n",
            " 6   online_order                    811047 non-null  float64\n",
            " 7   fraud                           811047 non-null  float64\n",
            "dtypes: float64(8)\n",
            "memory usage: 49.5 MB\n"
          ]
        }
      ],
      "source": [
        "\n",
        "import pandas as pd\n",
        "# URL do arquivo no GitHub\n",
        "url = 'https://raw.githubusercontent.com/daniel-usp/Python/main/projeto_fraude_cc.csv'\n",
        "\n",
        "df = pd.read_csv(url)\n",
        "\n",
        "#Variáveis X e y\n",
        "y = df['fraud']\n",
        "X = df.drop('fraud', axis =1)\n",
        "\n",
        "df.info()\n"
      ]
    },
    {
      "cell_type": "markdown",
      "source": [
        "##Rodar o modelo de Regressão Logística e sua                                            matriz de classificação de resultados (classification report matrix)"
      ],
      "metadata": {
        "id": "bjWfRDt-IT3j"
      }
    },
    {
      "cell_type": "code",
      "source": [
        "import pandas as pd\n",
        "# URL do arquivo no GitHub\n",
        "url = 'https://raw.githubusercontent.com/daniel-usp/Python/main/projeto_fraude_cc.csv'\n",
        "\n",
        "df = pd.read_csv(url)\n",
        "\n",
        "#Variáveis X e y\n",
        "y = df['fraud']\n",
        "X = df.drop('fraud', axis =1)\n",
        "\n",
        "#Rodar o modelo de Regressão Logística e sua matriz de classificação de resultados (classification report matrix)"
      ],
      "metadata": {
        "id": "uWmJrPiXITLu"
      },
      "execution_count": null,
      "outputs": []
    },
    {
      "cell_type": "markdown",
      "source": [
        "##Rodar o RandomForestClassifier e sua matriz de classificação de resultados (classification report matrix)"
      ],
      "metadata": {
        "id": "Q6TGsLbOIm8j"
      }
    },
    {
      "cell_type": "code",
      "source": [
        "import pandas as pd\n",
        "# URL do arquivo no GitHub\n",
        "url = 'https://raw.githubusercontent.com/daniel-usp/Python/main/projeto_fraude_cc.csv'\n",
        "\n",
        "df = pd.read_csv(url)\n",
        "\n",
        "#Variáveis X e y\n",
        "y = df['fraud']\n",
        "X = df.drop('fraud', axis =1)\n",
        "\n",
        "# Rodar o RandomForestClassifier e sua matriz de classificação de resultados (classification report matrix)\n",
        "#Utilizar máxima profundidade 5 e split 2"
      ],
      "metadata": {
        "id": "Hcq7Ur1SIxr5"
      },
      "execution_count": null,
      "outputs": []
    }
  ]
}